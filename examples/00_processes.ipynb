{
 "cells": [
  {
   "cell_type": "markdown",
   "id": "04177eca-95db-484a-9153-701f5a50adc7",
   "metadata": {},
   "source": [
    "# Processes\n",
    "\n",
    "The atomic unit of modeling in `pywatershed` is the process representation. `Process` is the class that provides the basis for process modeling. The design of `Process` supports `pywatershed` goals of providing modular, concise, and self-describing models.\n",
    "\n",
    "In this notebook, we'll take a look at an example `Process`. First we'll examine \n",
    "\n",
    "*How does a process work?*  How does a processes manage:\n",
    "* time\n",
    "* parameters\n",
    "* inputs\n",
    "* variables\n",
    "* options\n",
    "* initialization\n",
    "* advancing\n",
    "* calculation\n",
    "* outputting to disk\n",
    "* mass balance/budget tracking\n",
    "* finalization\n",
    "\n",
    "Second, we'll look at \n",
    "\n",
    "*Process design features*:\n",
    "* Self-describing\n",
    "    * dimensions, coords, parameters, inputs, variables, init_values,\n",
    "      restart_variables\n",
    "* Process and ConservativeProcess: budget\n",
    "\n",
    "## Prerequisites"
   ]
  },
  {
   "cell_type": "code",
   "execution_count": 1,
   "id": "96eb8530-3fd7-45db-ac3c-8aa2900261f3",
   "metadata": {},
   "outputs": [
    {
     "data": {
      "text/html": [
       "\n",
       "                <script type=\"application/javascript\" id=\"jupyter_black\">\n",
       "                (function() {\n",
       "                    if (window.IPython === undefined) {\n",
       "                        return\n",
       "                    }\n",
       "                    var msg = \"WARNING: it looks like you might have loaded \" +\n",
       "                        \"jupyter_black in a non-lab notebook with \" +\n",
       "                        \"`is_lab=True`. Please double check, and if \" +\n",
       "                        \"loading with `%load_ext` please review the README!\"\n",
       "                    console.log(msg)\n",
       "                    alert(msg)\n",
       "                })()\n",
       "                </script>\n",
       "                "
      ],
      "text/plain": [
       "<IPython.core.display.HTML object>"
      ]
     },
     "metadata": {},
     "output_type": "display_data"
    }
   ],
   "source": [
    "# auto-format the code in this notebook\n",
    "%load_ext jupyter_black"
   ]
  },
  {
   "cell_type": "code",
   "execution_count": 2,
   "id": "d351cbbc-e18d-4682-8f49-374777499b8e",
   "metadata": {
    "editable": true,
    "slideshow": {
     "slide_type": ""
    }
   },
   "outputs": [
    {
     "data": {
      "application/javascript": "(function(root) {\n  function now() {\n    return new Date();\n  }\n\n  var force = true;\n  var py_version = '3.1.1'.replace('rc', '-rc.');\n  var is_dev = py_version.indexOf(\"+\") !== -1 || py_version.indexOf(\"-\") !== -1;\n  var reloading = false;\n  var Bokeh = root.Bokeh;\n  var bokeh_loaded = Bokeh != null && (Bokeh.version === py_version || (Bokeh.versions !== undefined && Bokeh.versions.has(py_version)));\n\n  if (typeof (root._bokeh_timeout) === \"undefined\" || force) {\n    root._bokeh_timeout = Date.now() + 5000;\n    root._bokeh_failed_load = false;\n  }\n\n  function run_callbacks() {\n    try {\n      root._bokeh_onload_callbacks.forEach(function(callback) {\n        if (callback != null)\n          callback();\n      });\n    } finally {\n      delete root._bokeh_onload_callbacks;\n    }\n    console.debug(\"Bokeh: all callbacks have finished\");\n  }\n\n  function load_libs(css_urls, js_urls, js_modules, js_exports, callback) {\n    if (css_urls == null) css_urls = [];\n    if (js_urls == null) js_urls = [];\n    if (js_modules == null) js_modules = [];\n    if (js_exports == null) js_exports = {};\n\n    root._bokeh_onload_callbacks.push(callback);\n\n    if (root._bokeh_is_loading > 0) {\n      console.debug(\"Bokeh: BokehJS is being loaded, scheduling callback at\", now());\n      return null;\n    }\n    if (js_urls.length === 0 && js_modules.length === 0 && Object.keys(js_exports).length === 0) {\n      run_callbacks();\n      return null;\n    }\n    if (!reloading) {\n      console.debug(\"Bokeh: BokehJS not loaded, scheduling load and callback at\", now());\n    }\n\n    function on_load() {\n      root._bokeh_is_loading--;\n      if (root._bokeh_is_loading === 0) {\n        console.debug(\"Bokeh: all BokehJS libraries/stylesheets loaded\");\n        run_callbacks()\n      }\n    }\n    window._bokeh_on_load = on_load\n\n    function on_error() {\n      console.error(\"failed to load \" + url);\n    }\n\n    var skip = [];\n    if (window.requirejs) {\n      window.requirejs.config({'packages': {}, 'paths': {'jspanel': 'https://cdn.jsdelivr.net/npm/jspanel4@4.12.0/dist/jspanel', 'jspanel-modal': 'https://cdn.jsdelivr.net/npm/jspanel4@4.12.0/dist/extensions/modal/jspanel.modal', 'jspanel-tooltip': 'https://cdn.jsdelivr.net/npm/jspanel4@4.12.0/dist/extensions/tooltip/jspanel.tooltip', 'jspanel-hint': 'https://cdn.jsdelivr.net/npm/jspanel4@4.12.0/dist/extensions/hint/jspanel.hint', 'jspanel-layout': 'https://cdn.jsdelivr.net/npm/jspanel4@4.12.0/dist/extensions/layout/jspanel.layout', 'jspanel-contextmenu': 'https://cdn.jsdelivr.net/npm/jspanel4@4.12.0/dist/extensions/contextmenu/jspanel.contextmenu', 'jspanel-dock': 'https://cdn.jsdelivr.net/npm/jspanel4@4.12.0/dist/extensions/dock/jspanel.dock', 'gridstack': 'https://cdn.jsdelivr.net/npm/gridstack@7.2.3/dist/gridstack-all', 'notyf': 'https://cdn.jsdelivr.net/npm/notyf@3/notyf.min'}, 'shim': {'jspanel': {'exports': 'jsPanel'}, 'gridstack': {'exports': 'GridStack'}}});\n      require([\"jspanel\"], function(jsPanel) {\n\twindow.jsPanel = jsPanel\n\ton_load()\n      })\n      require([\"jspanel-modal\"], function() {\n\ton_load()\n      })\n      require([\"jspanel-tooltip\"], function() {\n\ton_load()\n      })\n      require([\"jspanel-hint\"], function() {\n\ton_load()\n      })\n      require([\"jspanel-layout\"], function() {\n\ton_load()\n      })\n      require([\"jspanel-contextmenu\"], function() {\n\ton_load()\n      })\n      require([\"jspanel-dock\"], function() {\n\ton_load()\n      })\n      require([\"gridstack\"], function(GridStack) {\n\twindow.GridStack = GridStack\n\ton_load()\n      })\n      require([\"notyf\"], function() {\n\ton_load()\n      })\n      root._bokeh_is_loading = css_urls.length + 9;\n    } else {\n      root._bokeh_is_loading = css_urls.length + js_urls.length + js_modules.length + Object.keys(js_exports).length;\n    }\n\n    var existing_stylesheets = []\n    var links = document.getElementsByTagName('link')\n    for (var i = 0; i < links.length; i++) {\n      var link = links[i]\n      if (link.href != null) {\n\texisting_stylesheets.push(link.href)\n      }\n    }\n    for (var i = 0; i < css_urls.length; i++) {\n      var url = css_urls[i];\n      if (existing_stylesheets.indexOf(url) !== -1) {\n\ton_load()\n\tcontinue;\n      }\n      const element = document.createElement(\"link\");\n      element.onload = on_load;\n      element.onerror = on_error;\n      element.rel = \"stylesheet\";\n      element.type = \"text/css\";\n      element.href = url;\n      console.debug(\"Bokeh: injecting link tag for BokehJS stylesheet: \", url);\n      document.body.appendChild(element);\n    }    if (((window['jsPanel'] !== undefined) && (!(window['jsPanel'] instanceof HTMLElement))) || window.requirejs) {\n      var urls = ['https://cdn.holoviz.org/panel/1.1.0/dist/bundled/floatpanel/jspanel4@4.12.0/dist/jspanel.js', 'https://cdn.holoviz.org/panel/1.1.0/dist/bundled/floatpanel/jspanel4@4.12.0/dist/extensions/modal/jspanel.modal.js', 'https://cdn.holoviz.org/panel/1.1.0/dist/bundled/floatpanel/jspanel4@4.12.0/dist/extensions/tooltip/jspanel.tooltip.js', 'https://cdn.holoviz.org/panel/1.1.0/dist/bundled/floatpanel/jspanel4@4.12.0/dist/extensions/hint/jspanel.hint.js', 'https://cdn.holoviz.org/panel/1.1.0/dist/bundled/floatpanel/jspanel4@4.12.0/dist/extensions/layout/jspanel.layout.js', 'https://cdn.holoviz.org/panel/1.1.0/dist/bundled/floatpanel/jspanel4@4.12.0/dist/extensions/contextmenu/jspanel.contextmenu.js', 'https://cdn.holoviz.org/panel/1.1.0/dist/bundled/floatpanel/jspanel4@4.12.0/dist/extensions/dock/jspanel.dock.js'];\n      for (var i = 0; i < urls.length; i++) {\n        skip.push(urls[i])\n      }\n    }    if (((window['GridStack'] !== undefined) && (!(window['GridStack'] instanceof HTMLElement))) || window.requirejs) {\n      var urls = ['https://cdn.holoviz.org/panel/1.1.0/dist/bundled/gridstack/gridstack@7.2.3/dist/gridstack-all.js'];\n      for (var i = 0; i < urls.length; i++) {\n        skip.push(urls[i])\n      }\n    }    if (((window['Notyf'] !== undefined) && (!(window['Notyf'] instanceof HTMLElement))) || window.requirejs) {\n      var urls = ['https://cdn.holoviz.org/panel/1.1.0/dist/bundled/notificationarea/notyf@3/notyf.min.js'];\n      for (var i = 0; i < urls.length; i++) {\n        skip.push(urls[i])\n      }\n    }    var existing_scripts = []\n    var scripts = document.getElementsByTagName('script')\n    for (var i = 0; i < scripts.length; i++) {\n      var script = scripts[i]\n      if (script.src != null) {\n\texisting_scripts.push(script.src)\n      }\n    }\n    for (var i = 0; i < js_urls.length; i++) {\n      var url = js_urls[i];\n      if (skip.indexOf(url) !== -1 || existing_scripts.indexOf(url) !== -1) {\n\tif (!window.requirejs) {\n\t  on_load();\n\t}\n\tcontinue;\n      }\n      var element = document.createElement('script');\n      element.onload = on_load;\n      element.onerror = on_error;\n      element.async = false;\n      element.src = url;\n      console.debug(\"Bokeh: injecting script tag for BokehJS library: \", url);\n      document.head.appendChild(element);\n    }\n    for (var i = 0; i < js_modules.length; i++) {\n      var url = js_modules[i];\n      if (skip.indexOf(url) !== -1 || existing_scripts.indexOf(url) !== -1) {\n\tif (!window.requirejs) {\n\t  on_load();\n\t}\n\tcontinue;\n      }\n      var element = document.createElement('script');\n      element.onload = on_load;\n      element.onerror = on_error;\n      element.async = false;\n      element.src = url;\n      element.type = \"module\";\n      console.debug(\"Bokeh: injecting script tag for BokehJS library: \", url);\n      document.head.appendChild(element);\n    }\n    for (const name in js_exports) {\n      var url = js_exports[name];\n      if (skip.indexOf(url) >= 0 || root[name] != null) {\n\tif (!window.requirejs) {\n\t  on_load();\n\t}\n\tcontinue;\n      }\n      var element = document.createElement('script');\n      element.onerror = on_error;\n      element.async = false;\n      element.type = \"module\";\n      console.debug(\"Bokeh: injecting script tag for BokehJS library: \", url);\n      element.textContent = `\n      import ${name} from \"${url}\"\n      window.${name} = ${name}\n      window._bokeh_on_load()\n      `\n      document.head.appendChild(element);\n    }\n    if (!js_urls.length && !js_modules.length) {\n      on_load()\n    }\n  };\n\n  function inject_raw_css(css) {\n    const element = document.createElement(\"style\");\n    element.appendChild(document.createTextNode(css));\n    document.body.appendChild(element);\n  }\n\n  var js_urls = [\"https://cdn.bokeh.org/bokeh/release/bokeh-3.1.1.min.js\", \"https://cdn.bokeh.org/bokeh/release/bokeh-gl-3.1.1.min.js\", \"https://cdn.bokeh.org/bokeh/release/bokeh-widgets-3.1.1.min.js\", \"https://cdn.bokeh.org/bokeh/release/bokeh-tables-3.1.1.min.js\", \"https://cdn.holoviz.org/panel/1.1.0/dist/panel.min.js\"];\n  var js_modules = [];\n  var js_exports = {};\n  var css_urls = [];\n  var inline_js = [    function(Bokeh) {\n      Bokeh.set_log_level(\"info\");\n    },\nfunction(Bokeh) {} // ensure no trailing comma for IE\n  ];\n\n  function run_inline_js() {\n    if ((root.Bokeh !== undefined) || (force === true)) {\n      for (var i = 0; i < inline_js.length; i++) {\n        inline_js[i].call(root, root.Bokeh);\n      }\n      // Cache old bokeh versions\n      if (Bokeh != undefined && !reloading) {\n\tvar NewBokeh = root.Bokeh;\n\tif (Bokeh.versions === undefined) {\n\t  Bokeh.versions = new Map();\n\t}\n\tif (NewBokeh.version !== Bokeh.version) {\n\t  Bokeh.versions.set(NewBokeh.version, NewBokeh)\n\t}\n\troot.Bokeh = Bokeh;\n      }} else if (Date.now() < root._bokeh_timeout) {\n      setTimeout(run_inline_js, 100);\n    } else if (!root._bokeh_failed_load) {\n      console.log(\"Bokeh: BokehJS failed to load within specified timeout.\");\n      root._bokeh_failed_load = true;\n    }\n    root._bokeh_is_initializing = false\n  }\n\n  function load_or_wait() {\n    // Implement a backoff loop that tries to ensure we do not load multiple\n    // versions of Bokeh and its dependencies at the same time.\n    // In recent versions we use the root._bokeh_is_initializing flag\n    // to determine whether there is an ongoing attempt to initialize\n    // bokeh, however for backward compatibility we also try to ensure\n    // that we do not start loading a newer (Panel>=1.0 and Bokeh>3) version\n    // before older versions are fully initialized.\n    if (root._bokeh_is_initializing && Date.now() > root._bokeh_timeout) {\n      root._bokeh_is_initializing = false;\n      root._bokeh_onload_callbacks = undefined;\n      console.log(\"Bokeh: BokehJS was loaded multiple times but one version failed to initialize.\");\n      load_or_wait();\n    } else if (root._bokeh_is_initializing || (typeof root._bokeh_is_initializing === \"undefined\" && root._bokeh_onload_callbacks !== undefined)) {\n      setTimeout(load_or_wait, 100);\n    } else {\n      Bokeh = root.Bokeh;\n      bokeh_loaded = Bokeh != null && (Bokeh.version === py_version || (Bokeh.versions !== undefined && Bokeh.versions.has(py_version)));\n      root._bokeh_is_initializing = true\n      root._bokeh_onload_callbacks = []\n      if (!reloading && (!bokeh_loaded || is_dev)) {\n\troot.Bokeh = undefined;\n      }\n      load_libs(css_urls, js_urls, js_modules, js_exports, function() {\n\tconsole.debug(\"Bokeh: BokehJS plotting callback run at\", now());\n\trun_inline_js();\n      });\n    }\n  }\n  // Give older versions of the autoload script a head-start to ensure\n  // they initialize before we start loading newer version.\n  setTimeout(load_or_wait, 100)\n}(window));",
      "application/vnd.holoviews_load.v0+json": ""
     },
     "metadata": {},
     "output_type": "display_data"
    },
    {
     "data": {
      "application/javascript": "\nif ((window.PyViz === undefined) || (window.PyViz instanceof HTMLElement)) {\n  window.PyViz = {comms: {}, comm_status:{}, kernels:{}, receivers: {}, plot_index: []}\n}\n\n\n    function JupyterCommManager() {\n    }\n\n    JupyterCommManager.prototype.register_target = function(plot_id, comm_id, msg_handler) {\n      if (window.comm_manager || ((window.Jupyter !== undefined) && (Jupyter.notebook.kernel != null))) {\n        var comm_manager = window.comm_manager || Jupyter.notebook.kernel.comm_manager;\n        comm_manager.register_target(comm_id, function(comm) {\n          comm.on_msg(msg_handler);\n        });\n      } else if ((plot_id in window.PyViz.kernels) && (window.PyViz.kernels[plot_id])) {\n        window.PyViz.kernels[plot_id].registerCommTarget(comm_id, function(comm) {\n          comm.onMsg = msg_handler;\n        });\n      } else if (typeof google != 'undefined' && google.colab.kernel != null) {\n        google.colab.kernel.comms.registerTarget(comm_id, (comm) => {\n          var messages = comm.messages[Symbol.asyncIterator]();\n          function processIteratorResult(result) {\n            var message = result.value;\n            console.log(message)\n            var content = {data: message.data, comm_id};\n            var buffers = []\n            for (var buffer of message.buffers || []) {\n              buffers.push(new DataView(buffer))\n            }\n            var metadata = message.metadata || {};\n            var msg = {content, buffers, metadata}\n            msg_handler(msg);\n            return messages.next().then(processIteratorResult);\n          }\n          return messages.next().then(processIteratorResult);\n        })\n      }\n    }\n\n    JupyterCommManager.prototype.get_client_comm = function(plot_id, comm_id, msg_handler) {\n      if (comm_id in window.PyViz.comms) {\n        return window.PyViz.comms[comm_id];\n      } else if (window.comm_manager || ((window.Jupyter !== undefined) && (Jupyter.notebook.kernel != null))) {\n        var comm_manager = window.comm_manager || Jupyter.notebook.kernel.comm_manager;\n        var comm = comm_manager.new_comm(comm_id, {}, {}, {}, comm_id);\n        if (msg_handler) {\n          comm.on_msg(msg_handler);\n        }\n      } else if ((plot_id in window.PyViz.kernels) && (window.PyViz.kernels[plot_id])) {\n        var comm = window.PyViz.kernels[plot_id].connectToComm(comm_id);\n        comm.open();\n        if (msg_handler) {\n          comm.onMsg = msg_handler;\n        }\n      } else if (typeof google != 'undefined' && google.colab.kernel != null) {\n        var comm_promise = google.colab.kernel.comms.open(comm_id)\n        comm_promise.then((comm) => {\n          window.PyViz.comms[comm_id] = comm;\n          if (msg_handler) {\n            var messages = comm.messages[Symbol.asyncIterator]();\n            function processIteratorResult(result) {\n              var message = result.value;\n              var content = {data: message.data};\n              var metadata = message.metadata || {comm_id};\n              var msg = {content, metadata}\n              msg_handler(msg);\n              return messages.next().then(processIteratorResult);\n            }\n            return messages.next().then(processIteratorResult);\n          }\n        }) \n        var sendClosure = (data, metadata, buffers, disposeOnDone) => {\n          return comm_promise.then((comm) => {\n            comm.send(data, metadata, buffers, disposeOnDone);\n          });\n        };\n        var comm = {\n          send: sendClosure\n        };\n      }\n      window.PyViz.comms[comm_id] = comm;\n      return comm;\n    }\n    window.PyViz.comm_manager = new JupyterCommManager();\n    \n\n\nvar JS_MIME_TYPE = 'application/javascript';\nvar HTML_MIME_TYPE = 'text/html';\nvar EXEC_MIME_TYPE = 'application/vnd.holoviews_exec.v0+json';\nvar CLASS_NAME = 'output';\n\n/**\n * Render data to the DOM node\n */\nfunction render(props, node) {\n  var div = document.createElement(\"div\");\n  var script = document.createElement(\"script\");\n  node.appendChild(div);\n  node.appendChild(script);\n}\n\n/**\n * Handle when a new output is added\n */\nfunction handle_add_output(event, handle) {\n  var output_area = handle.output_area;\n  var output = handle.output;\n  if ((output.data == undefined) || (!output.data.hasOwnProperty(EXEC_MIME_TYPE))) {\n    return\n  }\n  var id = output.metadata[EXEC_MIME_TYPE][\"id\"];\n  var toinsert = output_area.element.find(\".\" + CLASS_NAME.split(' ')[0]);\n  if (id !== undefined) {\n    var nchildren = toinsert.length;\n    var html_node = toinsert[nchildren-1].children[0];\n    html_node.innerHTML = output.data[HTML_MIME_TYPE];\n    var scripts = [];\n    var nodelist = html_node.querySelectorAll(\"script\");\n    for (var i in nodelist) {\n      if (nodelist.hasOwnProperty(i)) {\n        scripts.push(nodelist[i])\n      }\n    }\n\n    scripts.forEach( function (oldScript) {\n      var newScript = document.createElement(\"script\");\n      var attrs = [];\n      var nodemap = oldScript.attributes;\n      for (var j in nodemap) {\n        if (nodemap.hasOwnProperty(j)) {\n          attrs.push(nodemap[j])\n        }\n      }\n      attrs.forEach(function(attr) { newScript.setAttribute(attr.name, attr.value) });\n      newScript.appendChild(document.createTextNode(oldScript.innerHTML));\n      oldScript.parentNode.replaceChild(newScript, oldScript);\n    });\n    if (JS_MIME_TYPE in output.data) {\n      toinsert[nchildren-1].children[1].textContent = output.data[JS_MIME_TYPE];\n    }\n    output_area._hv_plot_id = id;\n    if ((window.Bokeh !== undefined) && (id in Bokeh.index)) {\n      window.PyViz.plot_index[id] = Bokeh.index[id];\n    } else {\n      window.PyViz.plot_index[id] = null;\n    }\n  } else if (output.metadata[EXEC_MIME_TYPE][\"server_id\"] !== undefined) {\n    var bk_div = document.createElement(\"div\");\n    bk_div.innerHTML = output.data[HTML_MIME_TYPE];\n    var script_attrs = bk_div.children[0].attributes;\n    for (var i = 0; i < script_attrs.length; i++) {\n      toinsert[toinsert.length - 1].childNodes[1].setAttribute(script_attrs[i].name, script_attrs[i].value);\n    }\n    // store reference to server id on output_area\n    output_area._bokeh_server_id = output.metadata[EXEC_MIME_TYPE][\"server_id\"];\n  }\n}\n\n/**\n * Handle when an output is cleared or removed\n */\nfunction handle_clear_output(event, handle) {\n  var id = handle.cell.output_area._hv_plot_id;\n  var server_id = handle.cell.output_area._bokeh_server_id;\n  if (((id === undefined) || !(id in PyViz.plot_index)) && (server_id !== undefined)) { return; }\n  var comm = window.PyViz.comm_manager.get_client_comm(\"hv-extension-comm\", \"hv-extension-comm\", function () {});\n  if (server_id !== null) {\n    comm.send({event_type: 'server_delete', 'id': server_id});\n    return;\n  } else if (comm !== null) {\n    comm.send({event_type: 'delete', 'id': id});\n  }\n  delete PyViz.plot_index[id];\n  if ((window.Bokeh !== undefined) & (id in window.Bokeh.index)) {\n    var doc = window.Bokeh.index[id].model.document\n    doc.clear();\n    const i = window.Bokeh.documents.indexOf(doc);\n    if (i > -1) {\n      window.Bokeh.documents.splice(i, 1);\n    }\n  }\n}\n\n/**\n * Handle kernel restart event\n */\nfunction handle_kernel_cleanup(event, handle) {\n  delete PyViz.comms[\"hv-extension-comm\"];\n  window.PyViz.plot_index = {}\n}\n\n/**\n * Handle update_display_data messages\n */\nfunction handle_update_output(event, handle) {\n  handle_clear_output(event, {cell: {output_area: handle.output_area}})\n  handle_add_output(event, handle)\n}\n\nfunction register_renderer(events, OutputArea) {\n  function append_mime(data, metadata, element) {\n    // create a DOM node to render to\n    var toinsert = this.create_output_subarea(\n    metadata,\n    CLASS_NAME,\n    EXEC_MIME_TYPE\n    );\n    this.keyboard_manager.register_events(toinsert);\n    // Render to node\n    var props = {data: data, metadata: metadata[EXEC_MIME_TYPE]};\n    render(props, toinsert[0]);\n    element.append(toinsert);\n    return toinsert\n  }\n\n  events.on('output_added.OutputArea', handle_add_output);\n  events.on('output_updated.OutputArea', handle_update_output);\n  events.on('clear_output.CodeCell', handle_clear_output);\n  events.on('delete.Cell', handle_clear_output);\n  events.on('kernel_ready.Kernel', handle_kernel_cleanup);\n\n  OutputArea.prototype.register_mime_type(EXEC_MIME_TYPE, append_mime, {\n    safe: true,\n    index: 0\n  });\n}\n\nif (window.Jupyter !== undefined) {\n  try {\n    var events = require('base/js/events');\n    var OutputArea = require('notebook/js/outputarea').OutputArea;\n    if (OutputArea.prototype.mime_types().indexOf(EXEC_MIME_TYPE) == -1) {\n      register_renderer(events, OutputArea);\n    }\n  } catch(err) {\n  }\n}\n",
      "application/vnd.holoviews_load.v0+json": ""
     },
     "metadata": {},
     "output_type": "display_data"
    },
    {
     "data": {
      "text/html": [
       "<style>*[data-root-id],\n",
       "*[data-root-id] > * {\n",
       "  box-sizing: border-box;\n",
       "  font-family: var(--jp-ui-font-family);\n",
       "  font-size: var(--jp-ui-font-size1);\n",
       "  color: var(--vscode-editor-foreground, var(--jp-ui-font-color1));\n",
       "}\n",
       "\n",
       "/* Override VSCode background color */\n",
       ".cell-output-ipywidget-background:has(> .cell-output-ipywidget-background\n",
       "    > .lm-Widget\n",
       "    > *[data-root-id]),\n",
       ".cell-output-ipywidget-background:has(> .lm-Widget > *[data-root-id]) {\n",
       "  background-color: transparent !important;\n",
       "}\n",
       "</style>"
      ]
     },
     "metadata": {},
     "output_type": "display_data"
    }
   ],
   "source": [
    "import pathlib as pl\n",
    "from pprint import pprint\n",
    "import pydoc\n",
    "\n",
    "import hvplot.xarray  # noqa\n",
    "import numpy as np\n",
    "import pywatershed as pws\n",
    "from tqdm.notebook import tqdm\n",
    "import xarray as xr\n",
    "\n",
    "from helpers import gis_files\n",
    "\n",
    "gis_files.download()  # this downloads GIS files"
   ]
  },
  {
   "cell_type": "markdown",
   "id": "26ee3f38-5032-4b97-80b5-5925b4023fc0",
   "metadata": {},
   "source": [
    "## How a Process works\n",
    "\n",
    "We'll pick a simple, conceptual groundwater representation from PRMS as a case study. We'll simulate groundwater on the Delaware River Basin. \n",
    "\n",
    "To get started, we can ask for `help()`. At the moment `help` a bit too verbose, so we'll look at just its first 22 lines describing how this PRMSGroundwater is instantiated."
   ]
  },
  {
   "cell_type": "code",
   "execution_count": 3,
   "id": "8ea1cb29-7ab5-44d8-9f63-5db925cf4c60",
   "metadata": {},
   "outputs": [
    {
     "name": "stdout",
     "output_type": "stream",
     "text": [
      "Help on class PRMSGroundwater in module pywatershed.hydrology.prms_groundwater\n",
      "\n",
      "class PRMSGroundwater(pywatershed.base.conservative_process.ConservativeProcess)\n",
      " |  PRMSGroundwater(control: pywatershed.base.control.Control, discretization: pywatershed.base.parameters.Parameters, parameters: pywatershed.base.parameters.Parameters, soil_to_gw: Union[str, pathlib.Path, numpy.ndarray, pywatershed.base.adapter.Adapter], ssr_to_gw: Union[str, pathlib.Path, numpy.ndarray, pywatershed.base.adapter.Adapter], dprst_seep_hru: Union[str, pathlib.Path, numpy.ndarray, pywatershed.base.adapter.Adapter], budget_type: Literal[None, 'warn', 'error'] = None, calc_method: Literal['fortran', 'numba', 'numpy'] = None, verbose: bool = None) -> None\n",
      " |  \n",
      " |  PRMS groundwater reservoir.\n",
      " |  \n",
      " |  Args:\n",
      " |      control: a Control object\n",
      " |      discretization: a discretization of class Parameters\n",
      " |      parameters: a parameter object of class Parameters\n",
      " |      soil_to_gw: Portion of excess flow to the capillary reservoir that\n",
      " |          drains to the associated GWR for each HRU\n",
      " |      ssr_to_gw: Drainage from the gravity-reservoir to the associated GWR\n",
      " |          for each HRU\n",
      " |      dprst_seep_hru: Seepage from surface-depression storage to associated\n",
      " |          GWR for each HRU\n",
      " |      budget_type: one of [None, \"warn\", \"error\"]\n",
      " |      calc_method: one of [\"fortran\", \"numba\", \"numpy\"]. None defaults to\n",
      " |          \"numba\".\n",
      " |      verbose: Print extra information or not?\n",
      " |  \n"
     ]
    }
   ],
   "source": [
    "# this is equivalent to help() but we get the multiline string and just look at part of it\n",
    "prms_gw_help = pydoc.render_doc(pws.PRMSGroundwater, \"Help on %s\")\n",
    "# the first 22 lines of help(pws.PRMSGroundwater)\n",
    "print(\"\\n\".join(prms_gw_help.splitlines()[0:22]))"
   ]
  },
  {
   "cell_type": "markdown",
   "id": "74ebb9e6-a341-470a-b65d-779ec0b1e0eb",
   "metadata": {},
   "source": [
    "The first line describes the module in which this class lives. The next line says that this class' parent class is `ConservativeProcess`. Next the signature for instantiating PRMSGroundwater is given, detailing its argument names, types, and defaults. Below this, more descriptive documentation is provided. \n",
    "\n",
    "A `ConservativeProcess` is a special `Process` that tracks mass conservation. That is to say that the `PRMSGroundwater` is a `ConservativeProcess`, which is itself a `Process`. So `PRMSGroundwater` is a concrete example we can investigate in more detail.\n",
    "\n",
    "To get a PRMS groundwater reservoir representation, we need to supply the arguments. We'll discuss each of the arguments as we go.\n",
    "\n",
    "*`control`:*\n",
    "An instance of the Control class. According to `help(pws.Control)`, \"Control manages global time and options, and provides metadata\". Hydrologic processes are generally prognostic, meaning that the next state depends on the current state ($X_{t+1}(X_t)$). The fundamental progression of time in a `pywatershed` model simulation is managed by an instance of the `Control` object.\n",
    "\n",
    "We'll create a Control object, it will just handle time."
   ]
  },
  {
   "cell_type": "code",
   "execution_count": null,
   "id": "dd285ea0-dd67-4a06-a7c7-0a2a00b14e9b",
   "metadata": {},
   "outputs": [],
   "source": [
    "control = pws.Control(\n",
    "    start_time=np.datetime64(\"1979-01-01T00:00:00\"),\n",
    "    end_time=np.datetime64(\"1979-07-01T00:00:00\"),\n",
    "    time_step=np.timedelta64(24, \"h\"),\n",
    ")"
   ]
  },
  {
   "cell_type": "markdown",
   "id": "026a3733-891f-4db1-8350-3a8296c3372d",
   "metadata": {},
   "source": [
    "*`discretization`:*\n",
    "From the signature we see that a discretization is of class `Parameters`. These are the static data that describe the spatial aspect of the this Process. We'll load these from an existing file. "
   ]
  },
  {
   "cell_type": "code",
   "execution_count": null,
   "id": "ff5410d2-0bf5-42db-bd58-714a0a64b49b",
   "metadata": {},
   "outputs": [],
   "source": [
    "pws_root = pws.constants.__pywatershed_root__\n",
    "domain_dir = pws_root / \"data/drb_2yr\"\n",
    "\n",
    "dis_file = domain_dir / \"parameters_dis_hru.nc\"\n",
    "assert dis_file.exists()\n",
    "dis = pws.Parameters.from_netcdf(dis_file)\n",
    "assert isinstance(dis, pws.Parameters)"
   ]
  },
  {
   "cell_type": "markdown",
   "id": "1046cf34-5551-4eb8-8585-e82615db8045",
   "metadata": {},
   "source": [
    "*`parameters`:*\n",
    "Of class `Parameters`, this argument provides the static/parameter values that model uses (beyond those in the discretization). They typically do not vary with the state of the model. We'll load these from an existing file."
   ]
  },
  {
   "cell_type": "code",
   "execution_count": null,
   "id": "387a2223-06c8-46d8-95ce-2a5478c49da0",
   "metadata": {},
   "outputs": [],
   "source": [
    "param_file = domain_dir / \"parameters_PRMSGroundwater.nc\"\n",
    "assert param_file.exists()\n",
    "params = pws.Parameters.from_netcdf(param_file)\n",
    "assert isinstance(params, pws.Parameters)"
   ]
  },
  {
   "cell_type": "markdown",
   "id": "60dbce41-5bf7-443f-b990-e19e10b94092",
   "metadata": {},
   "source": [
    "The remaining arguments we can supply in the call to `PRMSGroundwater`. \n",
    "\n",
    "*`soil_to_gw`, `ssr_to_gw`, and `dprst_seep_hru`:*\n",
    "These are the time-varying variables that are the inputs or forcings of this Process. Note that the type to be supplied is `Union[str, pl.Path, numpy.ndarray, pywatershed.base.adapter.Adapter]`. We'll choose to provide `pl.Path` object to pass static files for input. These files have the required timeseries of inputs and `Process` knows how to adapt this kind of netcdf input.\n",
    "\n",
    "*`budget_type`:*\n",
    "The `PRMSGroundwater` process computes a mass-balance or mass budget because it is a special subclass of `Process` \n",
    "called a `ConservativeProcess`. This option describes what to do when the budget does not balance. We'll elect to `error`.\n",
    "\n",
    "*`calc_method`:*\n",
    "The numerics behind the core calculations in this process. This proces has 3 options. We'll take \"numpy\".\n",
    "\n",
    "*`verbose`:* \n",
    "How much extra information do we want printed to the screen?\n",
    "\n",
    "Putting it all together:"
   ]
  },
  {
   "cell_type": "code",
   "execution_count": null,
   "id": "52232bc4-1ff8-4f1a-981e-420e9b88bb3c",
   "metadata": {},
   "outputs": [],
   "source": [
    "prms_gw = pws.PRMSGroundwater(\n",
    "    control=control,\n",
    "    discretization=dis,\n",
    "    parameters=params,\n",
    "    soil_to_gw=domain_dir / \"soil_to_gw.nc\",\n",
    "    ssr_to_gw=domain_dir / \"ssr_to_gw.nc\",\n",
    "    dprst_seep_hru=domain_dir / \"dprst_seep_hru.nc\",\n",
    "    budget_type=\"error\",\n",
    "    calc_method=\"numpy\",\n",
    "    verbose=False,\n",
    ")"
   ]
  },
  {
   "cell_type": "markdown",
   "id": "3497e883-457e-4897-b742-798ea02a2512",
   "metadata": {},
   "source": [
    "Now we have an instance of a `PRMSGroundwater`. "
   ]
  },
  {
   "cell_type": "code",
   "execution_count": null,
   "id": "29f24665-fbc7-43c5-8efb-fef6cc66266b",
   "metadata": {},
   "outputs": [],
   "source": [
    "prms_gw"
   ]
  },
  {
   "cell_type": "markdown",
   "id": "f715045a-443a-41db-a761-bdfadb3a4929",
   "metadata": {},
   "source": [
    "If we want output, we can initialize it by passing the desired directory for output."
   ]
  },
  {
   "cell_type": "code",
   "execution_count": null,
   "id": "15d6e123-5fea-4994-8402-1cec1b6f6d1a",
   "metadata": {},
   "outputs": [],
   "source": [
    "run_dir = pl.Path(\"./00_processes\")\n",
    "run_dir.mkdir(exist_ok=True)\n",
    "prms_gw.initialize_netcdf(run_dir)"
   ]
  },
  {
   "cell_type": "markdown",
   "id": "644b0a21-18b1-458a-aa27-d5fe174f67eb",
   "metadata": {},
   "source": [
    "Now we are ready to simulate. This sequence is the convention for advancing and calculating `Processes` in `pywatershed`. "
   ]
  },
  {
   "cell_type": "code",
   "execution_count": null,
   "id": "7a2670ca-39c2-4b34-9302-0b6e9dbe72f8",
   "metadata": {},
   "outputs": [],
   "source": [
    "for tt in tqdm(range(control.n_times)):\n",
    "    control.advance()\n",
    "    prms_gw.advance()\n",
    "    prms_gw.calculate(control.time_step)\n",
    "    prms_gw.output()"
   ]
  },
  {
   "cell_type": "markdown",
   "id": "61f4c00a-c9f9-4862-bdd9-bff3b75d9e7f",
   "metadata": {},
   "source": [
    "No errors arose, we we assume that mass balance was maintained for the entire run. Before we finalize the process we can print out the budget at the current time."
   ]
  },
  {
   "cell_type": "code",
   "execution_count": null,
   "id": "1095ede5-1f46-4827-bcf2-bd58da2c4ff3",
   "metadata": {},
   "outputs": [],
   "source": [
    "prms_gw.budget"
   ]
  },
  {
   "cell_type": "markdown",
   "id": "e4e096ab-7045-476b-bca0-813a3d840b8d",
   "metadata": {},
   "source": [
    "If the the budget did not balance, an error would be thrown and the `=` would be `!=!` in the summary.\n",
    "\n",
    "We can see from the summary that we reached the end time, 1979-07-01. \n",
    "\n",
    "Now we can finalize the process. "
   ]
  },
  {
   "cell_type": "code",
   "execution_count": null,
   "id": "72e4ac5f-9700-491e-b961-4206c2859a11",
   "metadata": {},
   "outputs": [],
   "source": [
    "prms_gw.finalize()"
   ]
  },
  {
   "cell_type": "markdown",
   "id": "be6ef988-78f1-4e18-ac70-5775e693555c",
   "metadata": {},
   "source": [
    "Let's take a look at the output that was written to file. "
   ]
  },
  {
   "cell_type": "code",
   "execution_count": null,
   "id": "b951cdee-1f50-4390-8c89-4bc61e0791f9",
   "metadata": {},
   "outputs": [],
   "source": [
    "output_files = sorted(run_dir.glob(\"*\"))\n",
    "pprint(output_files)"
   ]
  },
  {
   "cell_type": "markdown",
   "id": "cde78824-a691-482d-ad13-c924549717d5",
   "metadata": {},
   "source": [
    "We could look at the `PRMSGroundwater_budget.nc` file if we wanted more information on the budget throught time. Let's try it out. "
   ]
  },
  {
   "cell_type": "code",
   "execution_count": null,
   "id": "a869bf6f-856f-4b54-a213-a53c3230bfe0",
   "metadata": {},
   "outputs": [],
   "source": [
    "budget_ds = xr.open_dataset(\"00_processes/PRMSGroundwater_budget.nc\")\n",
    "display(budget_ds)"
   ]
  },
  {
   "cell_type": "markdown",
   "id": "3f600818-a623-4eb5-b870-763a31d0d552",
   "metadata": {},
   "source": [
    "Note that it dosent keep all the terms, but just the aggregate inputs, outputs and storage change (which is indeed output, in this case with `gwres_stor_change.nc`, when the calculation is on individual spatial units). We can easily plot with a slider for selecting HRUs."
   ]
  },
  {
   "cell_type": "code",
   "execution_count": null,
   "id": "7f8ec19f-d741-400e-9a17-20bf6e05f6ce",
   "metadata": {},
   "outputs": [],
   "source": [
    "budget_ds.storage_changes_sum.hvplot(groupby=\"nhm_id\")"
   ]
  },
  {
   "cell_type": "markdown",
   "id": "6d260ce5-f578-4b38-97a0-ab42cfc899b5",
   "metadata": {},
   "source": [
    "Let's take a look at the output flux variable from its own file. "
   ]
  },
  {
   "cell_type": "code",
   "execution_count": null,
   "id": "0a80fa53-2478-40ea-9d4f-4e8d5c00f501",
   "metadata": {},
   "outputs": [],
   "source": [
    "var = \"gwres_flow\"\n",
    "# There is only one variable per file, so bring this into a xr.DataArray\n",
    "var_da = xr.open_dataset(f\"00_processes/{var}.nc\")[var]\n",
    "display(var_da)\n",
    "var_da.hvplot(groupby=\"nhm_id\")"
   ]
  },
  {
   "cell_type": "markdown",
   "id": "75b3f7d0-38b8-4743-b59f-b5d4660557ad",
   "metadata": {},
   "source": [
    "We can also generate a map of `gwres_flow` on the HRUs. Here we'll plot the mean `gwres_flow` for the simulation period."
   ]
  },
  {
   "cell_type": "code",
   "execution_count": null,
   "id": "5549f6ff-0537-489a-b66d-457a0137a117",
   "metadata": {},
   "outputs": [],
   "source": [
    "proc_plot = pws.analysis.process_plot.ProcessPlot(\n",
    "    gis_files.gis_dir / \"drb_2yr\"\n",
    ")\n",
    "proc_plot.plot_hru_var(\n",
    "    var_name=\"gwres_flow\",\n",
    "    process=prms_gw,\n",
    "    data=var_da.mean(dim=\"time\"),\n",
    "    data_units=var_da.attrs[\"units\"],\n",
    "    nhm_id=var_da[\"nhm_id\"],\n",
    ")"
   ]
  },
  {
   "cell_type": "markdown",
   "id": "fea912fc-2030-428f-8e4a-3f9a94df3e7a",
   "metadata": {},
   "source": [
    "## Process design\n",
    "\n",
    "That's great! But you may have a few questions.\n",
    "* Why did we get those output variables?\n",
    "* How were the terms in the mass budget decided or known?\n",
    "* What are the parameters that were in that parameter file?\n",
    "* What are the units of the inputs?\n",
    "\n",
    "The answer is that Processes (and ConservativeProcesses) are self describing in code. For example: "
   ]
  },
  {
   "cell_type": "code",
   "execution_count": null,
   "id": "43fa3107-1786-4e28-b884-b2e14d2a38c2",
   "metadata": {},
   "outputs": [],
   "source": [
    "pws.PRMSGroundwater.get_dimensions()"
   ]
  },
  {
   "cell_type": "code",
   "execution_count": null,
   "id": "1e8ac8f5",
   "metadata": {},
   "outputs": [],
   "source": [
    "pws.PRMSGroundwater.get_parameters()"
   ]
  },
  {
   "cell_type": "code",
   "execution_count": null,
   "id": "c0a95c0d-a35e-4020-8835-6835c66c7b71",
   "metadata": {},
   "outputs": [],
   "source": [
    "pws.PRMSGroundwater.get_mass_budget_terms()"
   ]
  },
  {
   "cell_type": "markdown",
   "id": "e9e1c4d5-52df-4da8-a7a6-f131a74836a5",
   "metadata": {},
   "source": [
    "In this case, this code exactly specifies how the budget is calculated and is like what the developer of any `Process` would have to specify."
   ]
  },
  {
   "cell_type": "code",
   "execution_count": null,
   "id": "a8405a32-f658-47fe-b252-1b9dc59b365f",
   "metadata": {},
   "outputs": [],
   "source": [
    "pws.PRMSGroundwater.get_variables()"
   ]
  },
  {
   "cell_type": "markdown",
   "id": "1c7c4d85-9b78-4c0c-9989-d0307d00285d",
   "metadata": {},
   "source": [
    "These are the public variables that the `Process` maintains and, by default, it writes all of these out when output is requested. This list can be subset or output turned not turned on at all. However, `pywwatershed` only maintains the current time in memory (and the previous time for some, prognostic variables)."
   ]
  },
  {
   "cell_type": "markdown",
   "id": "b4483704-a539-4fed-bb03-5dcbeb42ed86",
   "metadata": {},
   "source": [
    "Moreover, all public variables are required to have metadata. Parameters also have metadata. The `meta` module (which control provides easy access to), can give metadata for requested variables. "
   ]
  },
  {
   "cell_type": "code",
   "execution_count": null,
   "id": "70f5709a-dc87-48d6-b43a-08cb386f6574",
   "metadata": {},
   "outputs": [],
   "source": [
    "control.meta.find_variables(pws.PRMSGroundwater.get_variables())"
   ]
  },
  {
   "cell_type": "markdown",
   "id": "80858d70-fb6f-4d19-bd58-67a61f99c029",
   "metadata": {},
   "source": [
    "When put all these functionalities together, we get the following function which deeply documents the internals of the `Process`:"
   ]
  },
  {
   "cell_type": "code",
   "execution_count": null,
   "id": "1fdc07d9-f7e3-4f13-973c-67d6cf6335ad",
   "metadata": {},
   "outputs": [],
   "source": [
    "pws.PRMSGroundwater.description()"
   ]
  },
  {
   "cell_type": "markdown",
   "id": "f030caaa-c8ce-4360-a0eb-70fd9ca7a969",
   "metadata": {},
   "source": [
    "These self-describing capabilities help users and programmers get answers about `Processes`. The self-describing design also helps supports generic code that connects multiple processes. Multiple process models will be explored in the next notebook.\n",
    "\n",
    "More, in-depth details about the design of the `Process` class are available in the documentation (e.g. `help(pws.Process)` or [online](https://pywatershed.readthedocs.io/en/latest/api/generated/pywatershed.base.Process.html))."
   ]
  }
 ],
 "metadata": {
  "kernelspec": {
   "display_name": "Python 3",
   "language": "python",
   "name": "python3"
  },
  "language_info": {
   "codemirror_mode": {
    "name": "ipython",
    "version": 3
   },
   "file_extension": ".py",
   "mimetype": "text/x-python",
   "name": "python",
   "nbconvert_exporter": "python",
   "pygments_lexer": "ipython3",
   "version": "3.10.11"
  }
 },
 "nbformat": 4,
 "nbformat_minor": 5
}
